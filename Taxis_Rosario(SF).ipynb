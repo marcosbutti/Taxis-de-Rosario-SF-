{
 "cells": [
  {
   "cell_type": "markdown",
   "id": "01138122-90f3-43d1-88cd-80425fdb4b4b",
   "metadata": {},
   "source": [
    "## Taxis de Rosario\n",
    "#### __Análisis de los taxis de la ciudad de Rosario (Santa Fe) con datos extraídos del portal de Datos Abiertos de la ciudad.__"
   ]
  },
  {
   "cell_type": "code",
   "execution_count": 31,
   "id": "204be10a-857a-4d93-a149-95baea1d6db8",
   "metadata": {},
   "outputs": [],
   "source": [
    "import pandas as pd\n",
    "import matplotlib.pyplot as plt"
   ]
  },
  {
   "cell_type": "code",
   "execution_count": 32,
   "id": "43e32e2a-9d88-4db5-9fc0-9484c4208fdd",
   "metadata": {},
   "outputs": [
    {
     "data": {
      "text/html": [
       "<div>\n",
       "<style scoped>\n",
       "    .dataframe tbody tr th:only-of-type {\n",
       "        vertical-align: middle;\n",
       "    }\n",
       "\n",
       "    .dataframe tbody tr th {\n",
       "        vertical-align: top;\n",
       "    }\n",
       "\n",
       "    .dataframe thead th {\n",
       "        text-align: right;\n",
       "    }\n",
       "</style>\n",
       "<table border=\"1\" class=\"dataframe\">\n",
       "  <thead>\n",
       "    <tr style=\"text-align: right;\">\n",
       "      <th></th>\n",
       "      <th>Periodo</th>\n",
       "      <th>Cantidad_Taxis</th>\n",
       "    </tr>\n",
       "  </thead>\n",
       "  <tbody>\n",
       "    <tr>\n",
       "      <th>0</th>\n",
       "      <td>2016</td>\n",
       "      <td>3961</td>\n",
       "    </tr>\n",
       "    <tr>\n",
       "      <th>1</th>\n",
       "      <td>2017</td>\n",
       "      <td>3937</td>\n",
       "    </tr>\n",
       "    <tr>\n",
       "      <th>2</th>\n",
       "      <td>2018</td>\n",
       "      <td>3905</td>\n",
       "    </tr>\n",
       "    <tr>\n",
       "      <th>3</th>\n",
       "      <td>2019</td>\n",
       "      <td>3879</td>\n",
       "    </tr>\n",
       "    <tr>\n",
       "      <th>4</th>\n",
       "      <td>2020</td>\n",
       "      <td>3876</td>\n",
       "    </tr>\n",
       "    <tr>\n",
       "      <th>5</th>\n",
       "      <td>2021</td>\n",
       "      <td>3875</td>\n",
       "    </tr>\n",
       "    <tr>\n",
       "      <th>6</th>\n",
       "      <td>2022</td>\n",
       "      <td>3858</td>\n",
       "    </tr>\n",
       "  </tbody>\n",
       "</table>\n",
       "</div>"
      ],
      "text/plain": [
       "   Periodo  Cantidad_Taxis\n",
       "0     2016            3961\n",
       "1     2017            3937\n",
       "2     2018            3905\n",
       "3     2019            3879\n",
       "4     2020            3876\n",
       "5     2021            3875\n",
       "6     2022            3858"
      ]
     },
     "execution_count": 32,
     "metadata": {},
     "output_type": "execute_result"
    }
   ],
   "source": [
    "evolicencias = pd.read_csv(\"evolucion_anual_de_licencias_taxis722.csv\", sep=\",\")\n",
    "evolicencias"
   ]
  },
  {
   "cell_type": "code",
   "execution_count": 33,
   "id": "57a7aba3-685f-4e7f-ac09-1d01068c174a",
   "metadata": {},
   "outputs": [
    {
     "data": {
      "image/png": "[encoded data removed]",
      "text/plain": [
       "<Figure size 432x288 with 1 Axes>"
      ]
     },
     "metadata": {
      "needs_background": "light"
     },
     "output_type": "display_data"
    }
   ],
   "source": [
    "plt.bar(evolicencias.Periodo,evolicencias.Cantidad_Taxis, color=(\"black\",\"yellow\"))\n",
    "plt.title(\"Cantidad de licencias por año\")\n",
    "plt.ylim(3800,4000)\n",
    "plt.show()"
   ]
  },
  {
   "cell_type": "code",
   "execution_count": 34,
   "id": "248d8cf8-6426-45b6-b68a-b754b41c463f",
   "metadata": {},
   "outputs": [
    {
     "data": {
      "text/html": [
       "<div>\n",
       "<style scoped>\n",
       "    .dataframe tbody tr th:only-of-type {\n",
       "        vertical-align: middle;\n",
       "    }\n",
       "\n",
       "    .dataframe tbody tr th {\n",
       "        vertical-align: top;\n",
       "    }\n",
       "\n",
       "    .dataframe thead th {\n",
       "        text-align: right;\n",
       "    }\n",
       "</style>\n",
       "<table border=\"1\" class=\"dataframe\">\n",
       "  <thead>\n",
       "    <tr style=\"text-align: right;\">\n",
       "      <th></th>\n",
       "      <th>Año</th>\n",
       "      <th>Viajes</th>\n",
       "    </tr>\n",
       "  </thead>\n",
       "  <tbody>\n",
       "    <tr>\n",
       "      <th>0</th>\n",
       "      <td>2013</td>\n",
       "      <td>20073526</td>\n",
       "    </tr>\n",
       "    <tr>\n",
       "      <th>1</th>\n",
       "      <td>2014</td>\n",
       "      <td>26280770</td>\n",
       "    </tr>\n",
       "    <tr>\n",
       "      <th>2</th>\n",
       "      <td>2015</td>\n",
       "      <td>27408829</td>\n",
       "    </tr>\n",
       "    <tr>\n",
       "      <th>3</th>\n",
       "      <td>2016</td>\n",
       "      <td>28343120</td>\n",
       "    </tr>\n",
       "    <tr>\n",
       "      <th>4</th>\n",
       "      <td>2017</td>\n",
       "      <td>26005134</td>\n",
       "    </tr>\n",
       "    <tr>\n",
       "      <th>5</th>\n",
       "      <td>2018</td>\n",
       "      <td>28142090</td>\n",
       "    </tr>\n",
       "    <tr>\n",
       "      <th>6</th>\n",
       "      <td>2019</td>\n",
       "      <td>26754487</td>\n",
       "    </tr>\n",
       "    <tr>\n",
       "      <th>7</th>\n",
       "      <td>2020</td>\n",
       "      <td>18073158</td>\n",
       "    </tr>\n",
       "  </tbody>\n",
       "</table>\n",
       "</div>"
      ],
      "text/plain": [
       "    Año    Viajes\n",
       "0  2013  20073526\n",
       "1  2014  26280770\n",
       "2  2015  27408829\n",
       "3  2016  28343120\n",
       "4  2017  26005134\n",
       "5  2018  28142090\n",
       "6  2019  26754487\n",
       "7  2020  18073158"
      ]
     },
     "execution_count": 34,
     "metadata": {},
     "output_type": "execute_result"
    }
   ],
   "source": [
    "anual = pd.read_csv(\"taxis_evol_anual.csv\", sep=\";\")\n",
    "anual"
   ]
  },
  {
   "cell_type": "code",
   "execution_count": 35,
   "id": "6951e9fe-7353-4c56-ab5f-e8c42d132c25",
   "metadata": {},
   "outputs": [
    {
     "data": {
      "text/plain": [
       "<matplotlib.legend.Legend at 0x7f55482bb3d0>"
      ]
     },
     "execution_count": 35,
     "metadata": {},
     "output_type": "execute_result"
    },
    {
     "data": {
      "image/png": "[encoded data removed]",
      "text/plain": [
       "<Figure size 864x432 with 1 Axes>"
      ]
     },
     "metadata": {
      "needs_background": "light"
     },
     "output_type": "display_data"
    }
   ],
   "source": [
    "fig,ax = plt.subplots(figsize=(12,6))\n",
    "plt.bar(anual.Año, anual.Viajes, label=\"Viajes por Año\", width=0.4, color=\"black\", ec=\"yellow\", lw=8)\n",
    "\n",
    "ax.set_xlabel('Año', fontsize=14) \n",
    "ax.set_ylabel('Viajes', fontsize=14)\n",
    "\n",
    "media=anual.Viajes.mean()\n",
    "plt.text(2020,media, \"Valor Medio: \"+str(media), backgroundcolor=\"lightgray\", fontsize=12) \n",
    "plt.axhline(media, c=\"gray\", ls=\"--\")\n",
    "plt.ticklabel_format(useOffset=False, style='plain') \n",
    "\n",
    "plt.legend()"
   ]
  },
  {
   "cell_type": "code",
   "execution_count": 36,
   "id": "1597f4b2-0064-4907-8312-1191830851b9",
   "metadata": {},
   "outputs": [
    {
     "data": {
      "text/html": [
       "<div>\n",
       "<style scoped>\n",
       "    .dataframe tbody tr th:only-of-type {\n",
       "        vertical-align: middle;\n",
       "    }\n",
       "\n",
       "    .dataframe tbody tr th {\n",
       "        vertical-align: top;\n",
       "    }\n",
       "\n",
       "    .dataframe thead th {\n",
       "        text-align: right;\n",
       "    }\n",
       "</style>\n",
       "<table border=\"1\" class=\"dataframe\">\n",
       "  <thead>\n",
       "    <tr style=\"text-align: right;\">\n",
       "      <th></th>\n",
       "      <th>NroLicencia</th>\n",
       "      <th>Apellido y Nombre</th>\n",
       "      <th>Genero</th>\n",
       "    </tr>\n",
       "  </thead>\n",
       "  <tbody>\n",
       "    <tr>\n",
       "      <th>0</th>\n",
       "      <td>1</td>\n",
       "      <td>AMICELLI, CRISTIAN HUGO</td>\n",
       "      <td>M</td>\n",
       "    </tr>\n",
       "    <tr>\n",
       "      <th>1</th>\n",
       "      <td>1</td>\n",
       "      <td>QUIROGA, SERGIO FERNANDO</td>\n",
       "      <td>M</td>\n",
       "    </tr>\n",
       "    <tr>\n",
       "      <th>2</th>\n",
       "      <td>1</td>\n",
       "      <td>RIEDEL, OSCAR CEFERINO</td>\n",
       "      <td>M</td>\n",
       "    </tr>\n",
       "    <tr>\n",
       "      <th>3</th>\n",
       "      <td>2</td>\n",
       "      <td>ORAZI, CARLOS ALBERTO</td>\n",
       "      <td>M</td>\n",
       "    </tr>\n",
       "    <tr>\n",
       "      <th>4</th>\n",
       "      <td>2</td>\n",
       "      <td>FALABELLA, EZEQUIEL NICOLAS</td>\n",
       "      <td>M</td>\n",
       "    </tr>\n",
       "    <tr>\n",
       "      <th>...</th>\n",
       "      <td>...</td>\n",
       "      <td>...</td>\n",
       "      <td>...</td>\n",
       "    </tr>\n",
       "    <tr>\n",
       "      <th>13791</th>\n",
       "      <td>4083</td>\n",
       "      <td>PEDEMONTE, ADRIAN ALBERTO</td>\n",
       "      <td>M</td>\n",
       "    </tr>\n",
       "    <tr>\n",
       "      <th>13792</th>\n",
       "      <td>4083</td>\n",
       "      <td>ALVAREZ, CRISTIAN FABIAN</td>\n",
       "      <td>M</td>\n",
       "    </tr>\n",
       "    <tr>\n",
       "      <th>13793</th>\n",
       "      <td>4079</td>\n",
       "      <td>ALMADA, SEBASTIAN ALBERTO</td>\n",
       "      <td>M</td>\n",
       "    </tr>\n",
       "    <tr>\n",
       "      <th>13794</th>\n",
       "      <td>4079</td>\n",
       "      <td>LUCERO, JORGE ALFREDO</td>\n",
       "      <td>M</td>\n",
       "    </tr>\n",
       "    <tr>\n",
       "      <th>13795</th>\n",
       "      <td>4079</td>\n",
       "      <td>MERLO, JAVIER ERNESTO</td>\n",
       "      <td>M</td>\n",
       "    </tr>\n",
       "  </tbody>\n",
       "</table>\n",
       "<p>13796 rows × 3 columns</p>\n",
       "</div>"
      ],
      "text/plain": [
       "       NroLicencia            Apellido y Nombre Genero\n",
       "0                1      AMICELLI, CRISTIAN HUGO      M\n",
       "1                1     QUIROGA, SERGIO FERNANDO      M\n",
       "2                1       RIEDEL, OSCAR CEFERINO      M\n",
       "3                2        ORAZI, CARLOS ALBERTO      M\n",
       "4                2  FALABELLA, EZEQUIEL NICOLAS      M\n",
       "...            ...                          ...    ...\n",
       "13791         4083    PEDEMONTE, ADRIAN ALBERTO      M\n",
       "13792         4083     ALVAREZ, CRISTIAN FABIAN      M\n",
       "13793         4079    ALMADA, SEBASTIAN ALBERTO      M\n",
       "13794         4079        LUCERO, JORGE ALFREDO      M\n",
       "13795         4079        MERLO, JAVIER ERNESTO      M\n",
       "\n",
       "[13796 rows x 3 columns]"
      ]
     },
     "execution_count": 36,
     "metadata": {},
     "output_type": "execute_result"
    }
   ],
   "source": [
    "choferes = pd.read_csv(\"choferes_taxis0722.csv\", sep=\",\")\n",
    "choferes"
   ]
  },
  {
   "cell_type": "code",
   "execution_count": 37,
   "id": "a00951d1-68af-45ce-91f5-52c07c38a384",
   "metadata": {},
   "outputs": [
    {
     "data": {
      "text/html": [
       "<div>\n",
       "<style scoped>\n",
       "    .dataframe tbody tr th:only-of-type {\n",
       "        vertical-align: middle;\n",
       "    }\n",
       "\n",
       "    .dataframe tbody tr th {\n",
       "        vertical-align: top;\n",
       "    }\n",
       "\n",
       "    .dataframe thead th {\n",
       "        text-align: right;\n",
       "    }\n",
       "</style>\n",
       "<table border=\"1\" class=\"dataframe\">\n",
       "  <thead>\n",
       "    <tr style=\"text-align: right;\">\n",
       "      <th></th>\n",
       "      <th>NroLicencia</th>\n",
       "      <th>Apellido y Nombre</th>\n",
       "    </tr>\n",
       "    <tr>\n",
       "      <th>Genero</th>\n",
       "      <th></th>\n",
       "      <th></th>\n",
       "    </tr>\n",
       "  </thead>\n",
       "  <tbody>\n",
       "    <tr>\n",
       "      <th>F</th>\n",
       "      <td>885</td>\n",
       "      <td>885</td>\n",
       "    </tr>\n",
       "    <tr>\n",
       "      <th>M</th>\n",
       "      <td>12911</td>\n",
       "      <td>12911</td>\n",
       "    </tr>\n",
       "  </tbody>\n",
       "</table>\n",
       "</div>"
      ],
      "text/plain": [
       "        NroLicencia  Apellido y Nombre\n",
       "Genero                                \n",
       "F               885                885\n",
       "M             12911              12911"
      ]
     },
     "execution_count": 37,
     "metadata": {},
     "output_type": "execute_result"
    }
   ],
   "source": [
    "genero = choferes.groupby(choferes.Genero).count()\n",
    "genero"
   ]
  },
  {
   "cell_type": "code",
   "execution_count": 38,
   "id": "9b797578-2a13-493e-9acb-ae8b14561897",
   "metadata": {},
   "outputs": [
    {
     "data": {
      "image/png": "[encoded data removed]",
      "text/plain": [
       "<Figure size 288x288 with 1 Axes>"
      ]
     },
     "metadata": {},
     "output_type": "display_data"
    }
   ],
   "source": [
    "fig1, ax1 = plt.subplots(figsize=(4,4))\n",
    "fig1.suptitle(\"Género de Choferes\", fontsize=14)\n",
    "ax1.pie(genero.NroLicencia, shadow=True, autopct=\"%1.0f%%\", labels=[\"Femenino\",\"Masculino\"], colors=[\"plum\",\"lightblue\"],\n",
    "        wedgeprops={\"linewidth\":1, \"edgecolor\":\"white\"},textprops={\"fontsize\":13}, explode=[0,0.25])\n",
    "\n",
    "plt.show()"
   ]
  }
 ],
 "metadata": {
  "kernelspec": {
   "display_name": "Python 3 (ipykernel)",
   "language": "python",
   "name": "python3"
  },
  "language_info": {
   "codemirror_mode": {
    "name": "ipython",
    "version": 3
   },
   "file_extension": ".py",
   "mimetype": "text/x-python",
   "name": "python",
   "nbconvert_exporter": "python",
   "pygments_lexer": "ipython3",
   "version": "3.9.12"
  }
 },
 "nbformat": 4,
 "nbformat_minor": 5
}
